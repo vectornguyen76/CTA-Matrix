{
 "cells": [
  {
   "cell_type": "code",
   "execution_count": null,
   "metadata": {},
   "outputs": [],
   "source": [
    "!wget https://public.vinai.io/PhoBERT_base_transformers.tar.gz\n",
    "!tar -xzvf PhoBERT_base_transformers.tar.gz\n",
    "\n",
    "class Config():\n",
    "    def __init__(self):\n",
    "        self.bpe_codes='/content/PhoBERT_base_transformers/bpe.codes'\n",
    "\n",
    "cfg = Config()\n",
    "tokenizer = fastBPE(cfg)\n",
    "tokenizer.encode(\"Hôm_nay trời nóng quá nên tôi ở nhà viết Viblo!\")"
   ]
  },
  {
   "cell_type": "code",
   "execution_count": 4,
   "metadata": {},
   "outputs": [
    {
     "name": "stdout",
     "output_type": "stream",
     "text": [
      "Mammals give birth directly\n"
     ]
    }
   ],
   "source": [
    "class Animal(object):\n",
    "    def __init__(self, animal_type = \"ahha\"):\n",
    "        print('Animal Type:', animal_type)\n",
    "    \n",
    "class Mammal(Animal):\n",
    "    def __init__(self):\n",
    "\n",
    "        # call superclass\n",
    "        # super().__init__('Mammal')\n",
    "        print('Mammals give birth directly')\n",
    "        \n",
    "dog = Mammal()\n",
    "\n",
    "# Output: Animal Type: Mammal\n",
    "#         Mammals give birth directly"
   ]
  },
  {
   "cell_type": "code",
   "execution_count": 3,
   "metadata": {},
   "outputs": [
    {
     "name": "stdout",
     "output_type": "stream",
     "text": [
      "torch.Size([128, 30])\n"
     ]
    }
   ],
   "source": [
    "import torch.nn as nn\n",
    "import torch\n",
    "m = nn.Linear(20, 30)\n",
    "input = torch.randn(128, 20)\n",
    "output = m(input)\n",
    "print(output.size())"
   ]
  },
  {
   "cell_type": "code",
   "execution_count": 9,
   "metadata": {},
   "outputs": [
    {
     "name": "stdout",
     "output_type": "stream",
     "text": [
      "tensor([[[4, 0, 2, 2, 5],\n",
      "         [9, 0, 3, 9, 7],\n",
      "         [9, 8, 2, 0, 8],\n",
      "         [4, 2, 1, 8, 7],\n",
      "         [4, 1, 8, 3, 4],\n",
      "         [1, 9, 5, 5, 2]]])\n",
      "torch.Size([1, 6, 5])\n",
      "tensor([[[0.9820, 0.5000, 0.8808, 0.8808, 0.9933],\n",
      "         [0.9999, 0.5000, 0.9526, 0.9999, 0.9991],\n",
      "         [0.9999, 0.9997, 0.8808, 0.5000, 0.9997],\n",
      "         [0.9820, 0.8808, 0.7311, 0.9997, 0.9991],\n",
      "         [0.9820, 0.7311, 0.9997, 0.9526, 0.9820],\n",
      "         [0.7311, 0.9999, 0.9933, 0.9933, 0.8808]]])\n"
     ]
    }
   ],
   "source": [
    "import torch.nn as nn\n",
    "import torch\n",
    "m = nn.Sigmoid()\n",
    "input = torch.randint(0, 10, (1, 6,5))\n",
    "print(input)\n",
    "output = m(input)\n",
    "print(output.shape)\n",
    "print(output)"
   ]
  },
  {
   "cell_type": "code",
   "execution_count": null,
   "metadata": {},
   "outputs": [],
   "source": []
  }
 ],
 "metadata": {
  "kernelspec": {
   "display_name": "Python 3.9.12 ('hackathon')",
   "language": "python",
   "name": "python3"
  },
  "language_info": {
   "codemirror_mode": {
    "name": "ipython",
    "version": 3
   },
   "file_extension": ".py",
   "mimetype": "text/x-python",
   "name": "python",
   "nbconvert_exporter": "python",
   "pygments_lexer": "ipython3",
   "version": "3.7.13"
  },
  "orig_nbformat": 4,
  "vscode": {
   "interpreter": {
    "hash": "6660cf1067e61537e84da06ff4f6a565f988837698324b7d3f14a0851420a6e7"
   }
  }
 },
 "nbformat": 4,
 "nbformat_minor": 2
}
