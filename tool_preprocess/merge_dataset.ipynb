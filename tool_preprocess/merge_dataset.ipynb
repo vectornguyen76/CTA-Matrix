{
 "cells": [
  {
   "cell_type": "code",
   "execution_count": 18,
   "metadata": {},
   "outputs": [
    {
     "name": "stdout",
     "output_type": "stream",
     "text": [
      "(4989, 7)\n"
     ]
    }
   ],
   "source": [
    "# Import the required libraries\n",
    "import os\n",
    "\n",
    "dataframe = pd.read_excel('Relabel-Done-datasets.xlsx')\n",
    "\n",
    "# Iterate over all the files in the directory\n",
    "for file in os.listdir():\n",
    "   if file.startswith('Crawl-Done'):\n",
    "      # Create the filepath of particular file\n",
    "      dataframe = pd.concat([dataframe, pd.read_excel(file)])\n",
    "\n",
    "print(dataframe.shape)\n",
    "\n",
    "# Shuffle dataframe\n",
    "dataframe = dataframe.sample(frac=1).reset_index(drop=True)"
   ]
  },
  {
   "cell_type": "code",
   "execution_count": 19,
   "metadata": {},
   "outputs": [],
   "source": [
    "dataframe.to_csv('merged_dataset.csv', index=False)"
   ]
  }
 ],
 "metadata": {
  "kernelspec": {
   "display_name": "Python 3.9.12 ('hackathon')",
   "language": "python",
   "name": "python3"
  },
  "language_info": {
   "codemirror_mode": {
    "name": "ipython",
    "version": 3
   },
   "file_extension": ".py",
   "mimetype": "text/x-python",
   "name": "python",
   "nbconvert_exporter": "python",
   "pygments_lexer": "ipython3",
   "version": "3.9.12"
  },
  "orig_nbformat": 4,
  "vscode": {
   "interpreter": {
    "hash": "6660cf1067e61537e84da06ff4f6a565f988837698324b7d3f14a0851420a6e7"
   }
  }
 },
 "nbformat": 4,
 "nbformat_minor": 2
}
