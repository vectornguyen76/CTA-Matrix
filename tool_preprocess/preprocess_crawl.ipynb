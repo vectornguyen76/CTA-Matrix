{
 "cells": [
  {
   "cell_type": "code",
   "execution_count": 22,
   "metadata": {},
   "outputs": [],
   "source": [
    "import pandas as pd\n",
    "import re"
   ]
  },
  {
   "cell_type": "code",
   "execution_count": null,
   "metadata": {},
   "outputs": [],
   "source": [
    "def preprocess(text):\n",
    "    html_pattern = re.compile('<.*?>')\n",
    "    url_pattern = re.compile(r'https?://\\S+|www\\.\\S+')\n",
    "    text = html_pattern.sub(r' ', text)\n",
    "    text = url_pattern.sub(r' ', text)\n",
    "    text = text.replace(\"\\n\", \". \")\n",
    "    text = text.replace(\"\\r.\", \"\")\n",
    "    text = text.replace(\"\\r\", \"\")\n",
    "    text = text.replace(\";\", \"\")    \n",
    "    \n",
    "    return text"
   ]
  },
  {
   "cell_type": "code",
   "execution_count": 23,
   "metadata": {},
   "outputs": [],
   "source": [
    "data = pd.read_csv('../datasets/data_crawl/data_specialties_ggmap.csv')\n",
    "\n",
    "data.columns =['Review']"
   ]
  },
  {
   "cell_type": "code",
   "execution_count": 26,
   "metadata": {},
   "outputs": [],
   "source": [
    "# results = []\n",
    "\n",
    "# keys = [\"nhà hàng\", \"Nhà Hàng\", \"Nhà hàng\", \"nha hang\"]\n",
    "\n",
    "# for text in data['Review']:\n",
    "#     for key in keys:\n",
    "#         if text.find(key) != -1 and text.find(\"(Bản dịch của Google)\") == -1 and 50 < len(text) < 1000:\n",
    "#             text = preprocess(text)\n",
    "#             results.append([text,0,0,0,0,0,0])\n",
    "#             break"
   ]
  },
  {
   "cell_type": "code",
   "execution_count": 27,
   "metadata": {},
   "outputs": [],
   "source": [
    "results = []\n",
    "i = 0\n",
    "for text in data['Review']:\n",
    "    i+=1\n",
    "    if 40 < len(text) < 1000 and text.find(\"(Bản dịch của Google)\") == -1 and i % 2 == 0:\n",
    "        text = preprocess(text)\n",
    "        results.append([text,0,0,0,0,0,0])"
   ]
  },
  {
   "cell_type": "code",
   "execution_count": 28,
   "metadata": {},
   "outputs": [],
   "source": [
    "import csv\n",
    "head = ['Review', 'giai_tri', 'luu_tru','nha_hang','an_uong','di_chuyen','mua_sam']\n",
    "# Write data to file csv\n",
    "with open(f\"../datasets/data_preprocess/data_preprocess_specialties.csv\", \"a\", encoding='utf-8', newline='') as file:\n",
    "    # Create a CSV writer\n",
    "    writer = csv.writer(file)\n",
    "    \n",
    "    writer.writerow(head)\n",
    "    \n",
    "    # Write data\n",
    "    writer.writerows(results)"
   ]
  }
 ],
 "metadata": {
  "kernelspec": {
   "display_name": "Python 3.7.13 ('vision37')",
   "language": "python",
   "name": "python3"
  },
  "language_info": {
   "codemirror_mode": {
    "name": "ipython",
    "version": 3
   },
   "file_extension": ".py",
   "mimetype": "text/x-python",
   "name": "python",
   "nbconvert_exporter": "python",
   "pygments_lexer": "ipython3",
   "version": "3.7.13"
  },
  "orig_nbformat": 4,
  "vscode": {
   "interpreter": {
    "hash": "067de83b2aeaf2db38f9fe215f65089a9ed8ef32397723d78427d931c8418804"
   }
  }
 },
 "nbformat": 4,
 "nbformat_minor": 2
}
