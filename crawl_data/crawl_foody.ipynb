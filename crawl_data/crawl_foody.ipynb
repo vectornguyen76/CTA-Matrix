{
 "cells": [
  {
   "cell_type": "code",
   "execution_count": 415,
   "metadata": {},
   "outputs": [],
   "source": [
    "from selenium import webdriver\n",
    "from time import sleep\n",
    "from selenium.webdriver.common.keys import Keys\n",
    "from selenium.webdriver.common.by import By\n",
    "from selenium.webdriver.common.action_chains import ActionChains\n",
    "import csv\n",
    "import re "
   ]
  },
  {
   "cell_type": "code",
   "execution_count": 416,
   "metadata": {},
   "outputs": [
    {
     "name": "stderr",
     "output_type": "stream",
     "text": [
      "c:\\Users\\DELL\\anaconda3\\envs\\vision37\\lib\\site-packages\\ipykernel_launcher.py:1: DeprecationWarning: executable_path has been deprecated, please pass in a Service object\n",
      "  \"\"\"Entry point for launching an IPython kernel.\n"
     ]
    }
   ],
   "source": [
    "browser = webdriver.Edge(executable_path='driver\\msedgedriver.exe')\n",
    "\n",
    "# Maximize window\n",
    "browser.maximize_window()\n",
    "\n",
    "# Open foody\n",
    "path_search = \"https://www.foody.vn/binh-dinh/travel/khu-du-lich\"\n",
    "browser.get(path_search)\n",
    "sleep(2)\n",
    "\n",
    "# Scroll page foody to get more location\n",
    "for _ in range(10):\n",
    "    browser.execute_script(\"window.scrollBy(0, 600)\")\n",
    "    sleep(2)"
   ]
  },
  {
   "cell_type": "code",
   "execution_count": 421,
   "metadata": {},
   "outputs": [],
   "source": [
    "# Get number comments and links \n",
    "cmts = browser.find_elements(By.XPATH, \"//span[@data-bind='text: TotalReview.formatK(1)']\")\n",
    "elements = browser.find_elements(By.XPATH, \"//div[@class='resname']//h2//a\")\n",
    "\n",
    "location = []\n",
    "for i in range(len(cmts)):\n",
    "    if int(cmts[i].text) >= 2:\n",
    "        location.append(elements[i].get_attribute(\"href\"))"
   ]
  },
  {
   "cell_type": "code",
   "execution_count": 423,
   "metadata": {},
   "outputs": [
    {
     "name": "stdout",
     "output_type": "stream",
     "text": [
      "22\n",
      "21\n",
      "16\n",
      "12\n",
      "12\n",
      "6\n",
      "5\n",
      "2\n",
      "5\n",
      "3\n",
      "3\n",
      "2\n",
      "2\n",
      "2\n",
      "2\n"
     ]
    }
   ],
   "source": [
    "# Preprocess data\n",
    "def preprocess(text):\n",
    "    html_pattern = re.compile('<.*?>')\n",
    "    url_pattern = re.compile(r'https?://\\S+|www\\.\\S+')\n",
    "    text = html_pattern.sub(r' ', text)\n",
    "    text = url_pattern.sub(r' ', text)\n",
    "    text = text.replace(\"\\n\", \". \")\n",
    "    text = text.replace(\";\", \"\")\n",
    "    \n",
    "    return text\n",
    "\n",
    "for link in location:\n",
    "    browser.get(link)\n",
    "    sleep(2)\n",
    "    \n",
    "    browser.execute_script(\"window.scrollBy(0, document.body.scrollHeight)\")\n",
    "    sleep(2)\n",
    "    \n",
    "    reviews = browser.find_elements(By.XPATH, \"//span[@ng-bind-html='Model.Description']\")\n",
    "    print(\"total reviews\", len(reviews))\n",
    "    \n",
    "    results = []\n",
    "    for review in reviews:\n",
    "        text = review.text\n",
    "        text = preprocess(text)\n",
    "        if len(text) < 40:\n",
    "            continue\n",
    "        results.append([text])\n",
    "    \n",
    "    print(\"total results\", len(results))\n",
    "    \n",
    "    with open(f\"data_foody.csv\", \"a\", encoding='utf-8', newline='') as file:\n",
    "        # Create a CSV writer\n",
    "        writer = csv.writer(file)\n",
    "        \n",
    "        # Write data to the file\n",
    "        writer.writerows(results)\n",
    "    \n",
    "    sleep(2)\n",
    "\n",
    "# Close browser\n",
    "browser.close()"
   ]
  },
  {
   "cell_type": "code",
   "execution_count": null,
   "metadata": {},
   "outputs": [],
   "source": [
    "\n"
   ]
  }
 ],
 "metadata": {
  "kernelspec": {
   "display_name": "Python 3.7.13 ('vision37')",
   "language": "python",
   "name": "python3"
  },
  "language_info": {
   "codemirror_mode": {
    "name": "ipython",
    "version": 3
   },
   "file_extension": ".py",
   "mimetype": "text/x-python",
   "name": "python",
   "nbconvert_exporter": "python",
   "pygments_lexer": "ipython3",
   "version": "3.7.13"
  },
  "orig_nbformat": 4,
  "vscode": {
   "interpreter": {
    "hash": "067de83b2aeaf2db38f9fe215f65089a9ed8ef32397723d78427d931c8418804"
   }
  }
 },
 "nbformat": 4,
 "nbformat_minor": 2
}
