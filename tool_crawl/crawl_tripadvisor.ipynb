{
 "cells": [
  {
   "cell_type": "code",
   "execution_count": 1,
   "metadata": {},
   "outputs": [],
   "source": [
    "from selenium import webdriver\n",
    "from time import sleep\n",
    "from selenium.webdriver.common.keys import Keys\n",
    "from selenium.webdriver.common.by import By\n",
    "from selenium.webdriver.common.action_chains import ActionChains\n",
    "import pandas as pd\n",
    "import re \n",
    "import csv"
   ]
  },
  {
   "cell_type": "code",
   "execution_count": 19,
   "metadata": {},
   "outputs": [
    {
     "name": "stderr",
     "output_type": "stream",
     "text": [
      "c:\\Users\\DELL\\anaconda3\\envs\\vision37\\lib\\site-packages\\ipykernel_launcher.py:1: DeprecationWarning: executable_path has been deprecated, please pass in a Service object\n",
      "  \"\"\"Entry point for launching an IPython kernel.\n"
     ]
    }
   ],
   "source": [
    "browser = webdriver.Edge(executable_path='driver/msedgedriver.exe')\n",
    "\n",
    "# Maximize window\n",
    "browser.maximize_window()\n",
    "\n",
    "# Open google map\n",
    "path_search = \"https://www.tripadvisor.com.vn/Restaurants-g608528-Quy_Nhon_Binh_Dinh_Province.html\"\n",
    "browser.get(path_search)\n",
    "sleep(3)"
   ]
  },
  {
   "cell_type": "code",
   "execution_count": null,
   "metadata": {},
   "outputs": [],
   "source": [
    "location = []\n",
    "\n",
    "while True:\n",
    "    try:\n",
    "        # Get location\n",
    "        links = browser.find_elements(By.XPATH, \"//span[@class='ABgbd']//span//a[@class='aWhIG _S ']\")\n",
    "        \n",
    "        # Get link location\n",
    "        for i in range(len(links)):\n",
    "            location.append(links[i].get_attribute(\"href\"))\n",
    "        \n",
    "        # Next page\n",
    "        more_review = browser.find_element(By.XPATH, \"//a[@aria-label='Next page']\")\n",
    "        more_review.click()\n",
    "        sleep(3)\n",
    "    except:\n",
    "        break"
   ]
  },
  {
   "cell_type": "code",
   "execution_count": null,
   "metadata": {},
   "outputs": [],
   "source": [
    "# Preprocess data\n",
    "def preprocess(text):\n",
    "    html_pattern = re.compile('<.*?>')\n",
    "    url_pattern = re.compile(r'https?://\\S+|www\\.\\S+')\n",
    "    text = html_pattern.sub(r' ', text)\n",
    "    text = url_pattern.sub(r' ', text)\n",
    "    text = text.replace(\"\\n\", \". \")\n",
    "    text = text.replace(\";\", \"\")\n",
    "    \n",
    "    return text"
   ]
  },
  {
   "cell_type": "code",
   "execution_count": 17,
   "metadata": {},
   "outputs": [
    {
     "data": {
      "text/plain": [
       "'https://www.tripadvisor.com.vn/Restaurant_Review-g608528-d16646121-Reviews-Sea_Fire_Salt-Quy_Nhon_Binh_Dinh_Province.html#REVIEWS'"
      ]
     },
     "execution_count": 17,
     "metadata": {},
     "output_type": "execute_result"
    }
   ],
   "source": [
    "location[0]"
   ]
  },
  {
   "cell_type": "code",
   "execution_count": 18,
   "metadata": {},
   "outputs": [
    {
     "ename": "NoSuchWindowException",
     "evalue": "Message: no such window: window was already closed\n  (Session info: MicrosoftEdge=104.0.1293.70)\nStacktrace:\nBacktrace:\n\tMicrosoft::Applications::Events::EventProperties::unpack [0x00A1DF63+58867]\n\tMicrosoft::Applications::Events::ISemanticContext::SetTicket [0x00914491+704369]\n\tMicrosoft::Applications::Events::ILogConfiguration::operator* [0x0079B1AE+3518]\n\tMicrosoft::Applications::Events::IModule::Teardown [0x00787BCB+52379]\n\tMicrosoft::Applications::Events::IModule::Teardown [0x0078A862+63794]\n\tMicrosoft::Applications::Events::IModule::Teardown [0x0078E17E+78414]\n\tMicrosoft::Applications::Events::ILogConfiguration::operator* [0x0079C330+8000]\n\tMicrosoft::Applications::Events::GUID_t::GUID_t [0x007E78B7+238663]\n\tMicrosoft::Applications::Events::GUID_t::GUID_t [0x007D9EE6+182902]\n\tMicrosoft::Applications::Events::GUID_t::GUID_t [0x007BCB96+63270]\n\tMicrosoft::Applications::Events::GUID_t::GUID_t [0x007BD926+66742]\n\tMicrosoft::Applications::Events::ILogManager::DispatchEventBroadcast [0x00C1D805+678725]\n\tMicrosoft::Applications::Events::ILogManager::DispatchEventBroadcast [0x00B8EB87+93895]\n\tMicrosoft::Applications::Events::ILogManager::DispatchEventBroadcast [0x00B8E5D7+92439]\n\tMicrosoft::Applications::Events::ILogManager::DispatchEventBroadcast [0x00B9272A+109162]\n\tMicrosoft::Applications::Events::ILogManager::DispatchEventBroadcast [0x00B8F2CA+95754]\n\tMicrosoft::Applications::Events::ISemanticContext::SetTicket [0x009265CB+778411]\n\tMicrosoft::Applications::Events::ISemanticContext::SetTicket [0x00931278+822616]\n\tMicrosoft::Applications::Events::ISemanticContext::SetTicket [0x00931402+823010]\n\tMicrosoft::Applications::Events::ISemanticContext::SetTicket [0x00944091+899953]\n\tBaseThreadInitThunk [0x76BAFA29+25]\n\tRtlGetAppContainerNamedObjectPath [0x77B17A9E+286]\n\tRtlGetAppContainerNamedObjectPath [0x77B17A6E+238]\n",
     "output_type": "error",
     "traceback": [
      "\u001b[1;31m---------------------------------------------------------------------------\u001b[0m",
      "\u001b[1;31mNoSuchWindowException\u001b[0m                     Traceback (most recent call last)",
      "\u001b[1;32m~\\AppData\\Local\\Temp\\ipykernel_932\\2256206830.py\u001b[0m in \u001b[0;36m<module>\u001b[1;34m\u001b[0m\n\u001b[1;32m----> 1\u001b[1;33m \u001b[0mbrowser\u001b[0m\u001b[1;33m.\u001b[0m\u001b[0mget\u001b[0m\u001b[1;33m(\u001b[0m\u001b[0mlocation\u001b[0m\u001b[1;33m[\u001b[0m\u001b[1;36m0\u001b[0m\u001b[1;33m]\u001b[0m\u001b[1;33m)\u001b[0m\u001b[1;33m\u001b[0m\u001b[1;33m\u001b[0m\u001b[0m\n\u001b[0m",
      "\u001b[1;32mc:\\Users\\DELL\\anaconda3\\envs\\vision37\\lib\\site-packages\\selenium\\webdriver\\remote\\webdriver.py\u001b[0m in \u001b[0;36mget\u001b[1;34m(self, url)\u001b[0m\n\u001b[0;32m    445\u001b[0m         \u001b[0mLoads\u001b[0m \u001b[0ma\u001b[0m \u001b[0mweb\u001b[0m \u001b[0mpage\u001b[0m \u001b[1;32min\u001b[0m \u001b[0mthe\u001b[0m \u001b[0mcurrent\u001b[0m \u001b[0mbrowser\u001b[0m \u001b[0msession\u001b[0m\u001b[1;33m.\u001b[0m\u001b[1;33m\u001b[0m\u001b[1;33m\u001b[0m\u001b[0m\n\u001b[0;32m    446\u001b[0m         \"\"\"\n\u001b[1;32m--> 447\u001b[1;33m         \u001b[0mself\u001b[0m\u001b[1;33m.\u001b[0m\u001b[0mexecute\u001b[0m\u001b[1;33m(\u001b[0m\u001b[0mCommand\u001b[0m\u001b[1;33m.\u001b[0m\u001b[0mGET\u001b[0m\u001b[1;33m,\u001b[0m \u001b[1;33m{\u001b[0m\u001b[1;34m'url'\u001b[0m\u001b[1;33m:\u001b[0m \u001b[0murl\u001b[0m\u001b[1;33m}\u001b[0m\u001b[1;33m)\u001b[0m\u001b[1;33m\u001b[0m\u001b[1;33m\u001b[0m\u001b[0m\n\u001b[0m\u001b[0;32m    448\u001b[0m \u001b[1;33m\u001b[0m\u001b[0m\n\u001b[0;32m    449\u001b[0m     \u001b[1;33m@\u001b[0m\u001b[0mproperty\u001b[0m\u001b[1;33m\u001b[0m\u001b[1;33m\u001b[0m\u001b[0m\n",
      "\u001b[1;32mc:\\Users\\DELL\\anaconda3\\envs\\vision37\\lib\\site-packages\\selenium\\webdriver\\remote\\webdriver.py\u001b[0m in \u001b[0;36mexecute\u001b[1;34m(self, driver_command, params)\u001b[0m\n\u001b[0;32m    433\u001b[0m         \u001b[0mresponse\u001b[0m \u001b[1;33m=\u001b[0m \u001b[0mself\u001b[0m\u001b[1;33m.\u001b[0m\u001b[0mcommand_executor\u001b[0m\u001b[1;33m.\u001b[0m\u001b[0mexecute\u001b[0m\u001b[1;33m(\u001b[0m\u001b[0mdriver_command\u001b[0m\u001b[1;33m,\u001b[0m \u001b[0mparams\u001b[0m\u001b[1;33m)\u001b[0m\u001b[1;33m\u001b[0m\u001b[1;33m\u001b[0m\u001b[0m\n\u001b[0;32m    434\u001b[0m         \u001b[1;32mif\u001b[0m \u001b[0mresponse\u001b[0m\u001b[1;33m:\u001b[0m\u001b[1;33m\u001b[0m\u001b[1;33m\u001b[0m\u001b[0m\n\u001b[1;32m--> 435\u001b[1;33m             \u001b[0mself\u001b[0m\u001b[1;33m.\u001b[0m\u001b[0merror_handler\u001b[0m\u001b[1;33m.\u001b[0m\u001b[0mcheck_response\u001b[0m\u001b[1;33m(\u001b[0m\u001b[0mresponse\u001b[0m\u001b[1;33m)\u001b[0m\u001b[1;33m\u001b[0m\u001b[1;33m\u001b[0m\u001b[0m\n\u001b[0m\u001b[0;32m    436\u001b[0m             response['value'] = self._unwrap_value(\n\u001b[0;32m    437\u001b[0m                 response.get('value', None))\n",
      "\u001b[1;32mc:\\Users\\DELL\\anaconda3\\envs\\vision37\\lib\\site-packages\\selenium\\webdriver\\remote\\errorhandler.py\u001b[0m in \u001b[0;36mcheck_response\u001b[1;34m(self, response)\u001b[0m\n\u001b[0;32m    245\u001b[0m                 \u001b[0malert_text\u001b[0m \u001b[1;33m=\u001b[0m \u001b[0mvalue\u001b[0m\u001b[1;33m[\u001b[0m\u001b[1;34m'alert'\u001b[0m\u001b[1;33m]\u001b[0m\u001b[1;33m.\u001b[0m\u001b[0mget\u001b[0m\u001b[1;33m(\u001b[0m\u001b[1;34m'text'\u001b[0m\u001b[1;33m)\u001b[0m\u001b[1;33m\u001b[0m\u001b[1;33m\u001b[0m\u001b[0m\n\u001b[0;32m    246\u001b[0m             \u001b[1;32mraise\u001b[0m \u001b[0mexception_class\u001b[0m\u001b[1;33m(\u001b[0m\u001b[0mmessage\u001b[0m\u001b[1;33m,\u001b[0m \u001b[0mscreen\u001b[0m\u001b[1;33m,\u001b[0m \u001b[0mstacktrace\u001b[0m\u001b[1;33m,\u001b[0m \u001b[0malert_text\u001b[0m\u001b[1;33m)\u001b[0m  \u001b[1;31m# type: ignore[call-arg]  # mypy is not smart enough here\u001b[0m\u001b[1;33m\u001b[0m\u001b[1;33m\u001b[0m\u001b[0m\n\u001b[1;32m--> 247\u001b[1;33m         \u001b[1;32mraise\u001b[0m \u001b[0mexception_class\u001b[0m\u001b[1;33m(\u001b[0m\u001b[0mmessage\u001b[0m\u001b[1;33m,\u001b[0m \u001b[0mscreen\u001b[0m\u001b[1;33m,\u001b[0m \u001b[0mstacktrace\u001b[0m\u001b[1;33m)\u001b[0m\u001b[1;33m\u001b[0m\u001b[1;33m\u001b[0m\u001b[0m\n\u001b[0m\u001b[0;32m    248\u001b[0m \u001b[1;33m\u001b[0m\u001b[0m\n\u001b[0;32m    249\u001b[0m     \u001b[1;32mdef\u001b[0m \u001b[0m_value_or_default\u001b[0m\u001b[1;33m(\u001b[0m\u001b[0mself\u001b[0m\u001b[1;33m,\u001b[0m \u001b[0mobj\u001b[0m\u001b[1;33m:\u001b[0m \u001b[0mMapping\u001b[0m\u001b[1;33m[\u001b[0m\u001b[0m_KT\u001b[0m\u001b[1;33m,\u001b[0m \u001b[0m_VT\u001b[0m\u001b[1;33m]\u001b[0m\u001b[1;33m,\u001b[0m \u001b[0mkey\u001b[0m\u001b[1;33m:\u001b[0m \u001b[0m_KT\u001b[0m\u001b[1;33m,\u001b[0m \u001b[0mdefault\u001b[0m\u001b[1;33m:\u001b[0m \u001b[0m_VT\u001b[0m\u001b[1;33m)\u001b[0m \u001b[1;33m->\u001b[0m \u001b[0m_VT\u001b[0m\u001b[1;33m:\u001b[0m\u001b[1;33m\u001b[0m\u001b[1;33m\u001b[0m\u001b[0m\n",
      "\u001b[1;31mNoSuchWindowException\u001b[0m: Message: no such window: window was already closed\n  (Session info: MicrosoftEdge=104.0.1293.70)\nStacktrace:\nBacktrace:\n\tMicrosoft::Applications::Events::EventProperties::unpack [0x00A1DF63+58867]\n\tMicrosoft::Applications::Events::ISemanticContext::SetTicket [0x00914491+704369]\n\tMicrosoft::Applications::Events::ILogConfiguration::operator* [0x0079B1AE+3518]\n\tMicrosoft::Applications::Events::IModule::Teardown [0x00787BCB+52379]\n\tMicrosoft::Applications::Events::IModule::Teardown [0x0078A862+63794]\n\tMicrosoft::Applications::Events::IModule::Teardown [0x0078E17E+78414]\n\tMicrosoft::Applications::Events::ILogConfiguration::operator* [0x0079C330+8000]\n\tMicrosoft::Applications::Events::GUID_t::GUID_t [0x007E78B7+238663]\n\tMicrosoft::Applications::Events::GUID_t::GUID_t [0x007D9EE6+182902]\n\tMicrosoft::Applications::Events::GUID_t::GUID_t [0x007BCB96+63270]\n\tMicrosoft::Applications::Events::GUID_t::GUID_t [0x007BD926+66742]\n\tMicrosoft::Applications::Events::ILogManager::DispatchEventBroadcast [0x00C1D805+678725]\n\tMicrosoft::Applications::Events::ILogManager::DispatchEventBroadcast [0x00B8EB87+93895]\n\tMicrosoft::Applications::Events::ILogManager::DispatchEventBroadcast [0x00B8E5D7+92439]\n\tMicrosoft::Applications::Events::ILogManager::DispatchEventBroadcast [0x00B9272A+109162]\n\tMicrosoft::Applications::Events::ILogManager::DispatchEventBroadcast [0x00B8F2CA+95754]\n\tMicrosoft::Applications::Events::ISemanticContext::SetTicket [0x009265CB+778411]\n\tMicrosoft::Applications::Events::ISemanticContext::SetTicket [0x00931278+822616]\n\tMicrosoft::Applications::Events::ISemanticContext::SetTicket [0x00931402+823010]\n\tMicrosoft::Applications::Events::ISemanticContext::SetTicket [0x00944091+899953]\n\tBaseThreadInitThunk [0x76BAFA29+25]\n\tRtlGetAppContainerNamedObjectPath [0x77B17A9E+286]\n\tRtlGetAppContainerNamedObjectPath [0x77B17A6E+238]\n"
     ]
    }
   ],
   "source": [
    "browser.get(location[0])"
   ]
  },
  {
   "cell_type": "code",
   "execution_count": 15,
   "metadata": {},
   "outputs": [
    {
     "ename": "NoSuchWindowException",
     "evalue": "Message: no such window: window was already closed\n  (Session info: MicrosoftEdge=104.0.1293.70)\nStacktrace:\nBacktrace:\n\tMicrosoft::Applications::Events::EventProperties::unpack [0x00A1DF63+58867]\n\tMicrosoft::Applications::Events::ISemanticContext::SetTicket [0x00914491+704369]\n\tMicrosoft::Applications::Events::ILogConfiguration::operator* [0x0079B1AE+3518]\n\tMicrosoft::Applications::Events::IModule::Teardown [0x00787BCB+52379]\n\tMicrosoft::Applications::Events::IModule::Teardown [0x0078A862+63794]\n\tMicrosoft::Applications::Events::IModule::Teardown [0x0078E17E+78414]\n\tMicrosoft::Applications::Events::ILogConfiguration::operator* [0x0079C330+8000]\n\tMicrosoft::Applications::Events::GUID_t::GUID_t [0x007E78B7+238663]\n\tMicrosoft::Applications::Events::GUID_t::GUID_t [0x007D9EE6+182902]\n\tMicrosoft::Applications::Events::GUID_t::GUID_t [0x007BCB96+63270]\n\tMicrosoft::Applications::Events::GUID_t::GUID_t [0x007BD926+66742]\n\tMicrosoft::Applications::Events::ILogManager::DispatchEventBroadcast [0x00C1D805+678725]\n\tMicrosoft::Applications::Events::ILogManager::DispatchEventBroadcast [0x00B8EB87+93895]\n\tMicrosoft::Applications::Events::ILogManager::DispatchEventBroadcast [0x00B8E5D7+92439]\n\tMicrosoft::Applications::Events::ILogManager::DispatchEventBroadcast [0x00B9272A+109162]\n\tMicrosoft::Applications::Events::ILogManager::DispatchEventBroadcast [0x00B8F2CA+95754]\n\tMicrosoft::Applications::Events::ISemanticContext::SetTicket [0x009265CB+778411]\n\tMicrosoft::Applications::Events::ISemanticContext::SetTicket [0x00931278+822616]\n\tMicrosoft::Applications::Events::ISemanticContext::SetTicket [0x00931402+823010]\n\tMicrosoft::Applications::Events::ISemanticContext::SetTicket [0x00944091+899953]\n\tBaseThreadInitThunk [0x76BAFA29+25]\n\tRtlGetAppContainerNamedObjectPath [0x77B17A9E+286]\n\tRtlGetAppContainerNamedObjectPath [0x77B17A6E+238]\n",
     "output_type": "error",
     "traceback": [
      "\u001b[1;31m---------------------------------------------------------------------------\u001b[0m",
      "\u001b[1;31mNoSuchWindowException\u001b[0m                     Traceback (most recent call last)",
      "\u001b[1;32m~\\AppData\\Local\\Temp\\ipykernel_932\\2721318728.py\u001b[0m in \u001b[0;36m<module>\u001b[1;34m\u001b[0m\n\u001b[1;32m----> 1\u001b[1;33m \u001b[0msee_more\u001b[0m \u001b[1;33m=\u001b[0m \u001b[0mbrowser\u001b[0m\u001b[1;33m.\u001b[0m\u001b[0mfind_element\u001b[0m\u001b[1;33m(\u001b[0m\u001b[0mBy\u001b[0m\u001b[1;33m.\u001b[0m\u001b[0mXPATH\u001b[0m\u001b[1;33m,\u001b[0m \u001b[1;34m\"//span[@class='taLnk ulBlueLinks']\"\u001b[0m\u001b[1;33m)\u001b[0m\u001b[1;33m\u001b[0m\u001b[1;33m\u001b[0m\u001b[0m\n\u001b[0m\u001b[0;32m      2\u001b[0m \u001b[0msee_more\u001b[0m\u001b[1;33m.\u001b[0m\u001b[0mclick\u001b[0m\u001b[1;33m(\u001b[0m\u001b[1;33m)\u001b[0m\u001b[1;33m\u001b[0m\u001b[1;33m\u001b[0m\u001b[0m\n",
      "\u001b[1;32mc:\\Users\\DELL\\anaconda3\\envs\\vision37\\lib\\site-packages\\selenium\\webdriver\\remote\\webdriver.py\u001b[0m in \u001b[0;36mfind_element\u001b[1;34m(self, by, value)\u001b[0m\n\u001b[0;32m    857\u001b[0m         return self.execute(Command.FIND_ELEMENT, {\n\u001b[0;32m    858\u001b[0m             \u001b[1;34m'using'\u001b[0m\u001b[1;33m:\u001b[0m \u001b[0mby\u001b[0m\u001b[1;33m,\u001b[0m\u001b[1;33m\u001b[0m\u001b[1;33m\u001b[0m\u001b[0m\n\u001b[1;32m--> 859\u001b[1;33m             'value': value})['value']\n\u001b[0m\u001b[0;32m    860\u001b[0m \u001b[1;33m\u001b[0m\u001b[0m\n\u001b[0;32m    861\u001b[0m     \u001b[1;32mdef\u001b[0m \u001b[0mfind_elements\u001b[0m\u001b[1;33m(\u001b[0m\u001b[0mself\u001b[0m\u001b[1;33m,\u001b[0m \u001b[0mby\u001b[0m\u001b[1;33m=\u001b[0m\u001b[0mBy\u001b[0m\u001b[1;33m.\u001b[0m\u001b[0mID\u001b[0m\u001b[1;33m,\u001b[0m \u001b[0mvalue\u001b[0m\u001b[1;33m=\u001b[0m\u001b[1;32mNone\u001b[0m\u001b[1;33m)\u001b[0m \u001b[1;33m->\u001b[0m \u001b[0mList\u001b[0m\u001b[1;33m[\u001b[0m\u001b[0mWebElement\u001b[0m\u001b[1;33m]\u001b[0m\u001b[1;33m:\u001b[0m\u001b[1;33m\u001b[0m\u001b[1;33m\u001b[0m\u001b[0m\n",
      "\u001b[1;32mc:\\Users\\DELL\\anaconda3\\envs\\vision37\\lib\\site-packages\\selenium\\webdriver\\remote\\webdriver.py\u001b[0m in \u001b[0;36mexecute\u001b[1;34m(self, driver_command, params)\u001b[0m\n\u001b[0;32m    433\u001b[0m         \u001b[0mresponse\u001b[0m \u001b[1;33m=\u001b[0m \u001b[0mself\u001b[0m\u001b[1;33m.\u001b[0m\u001b[0mcommand_executor\u001b[0m\u001b[1;33m.\u001b[0m\u001b[0mexecute\u001b[0m\u001b[1;33m(\u001b[0m\u001b[0mdriver_command\u001b[0m\u001b[1;33m,\u001b[0m \u001b[0mparams\u001b[0m\u001b[1;33m)\u001b[0m\u001b[1;33m\u001b[0m\u001b[1;33m\u001b[0m\u001b[0m\n\u001b[0;32m    434\u001b[0m         \u001b[1;32mif\u001b[0m \u001b[0mresponse\u001b[0m\u001b[1;33m:\u001b[0m\u001b[1;33m\u001b[0m\u001b[1;33m\u001b[0m\u001b[0m\n\u001b[1;32m--> 435\u001b[1;33m             \u001b[0mself\u001b[0m\u001b[1;33m.\u001b[0m\u001b[0merror_handler\u001b[0m\u001b[1;33m.\u001b[0m\u001b[0mcheck_response\u001b[0m\u001b[1;33m(\u001b[0m\u001b[0mresponse\u001b[0m\u001b[1;33m)\u001b[0m\u001b[1;33m\u001b[0m\u001b[1;33m\u001b[0m\u001b[0m\n\u001b[0m\u001b[0;32m    436\u001b[0m             response['value'] = self._unwrap_value(\n\u001b[0;32m    437\u001b[0m                 response.get('value', None))\n",
      "\u001b[1;32mc:\\Users\\DELL\\anaconda3\\envs\\vision37\\lib\\site-packages\\selenium\\webdriver\\remote\\errorhandler.py\u001b[0m in \u001b[0;36mcheck_response\u001b[1;34m(self, response)\u001b[0m\n\u001b[0;32m    245\u001b[0m                 \u001b[0malert_text\u001b[0m \u001b[1;33m=\u001b[0m \u001b[0mvalue\u001b[0m\u001b[1;33m[\u001b[0m\u001b[1;34m'alert'\u001b[0m\u001b[1;33m]\u001b[0m\u001b[1;33m.\u001b[0m\u001b[0mget\u001b[0m\u001b[1;33m(\u001b[0m\u001b[1;34m'text'\u001b[0m\u001b[1;33m)\u001b[0m\u001b[1;33m\u001b[0m\u001b[1;33m\u001b[0m\u001b[0m\n\u001b[0;32m    246\u001b[0m             \u001b[1;32mraise\u001b[0m \u001b[0mexception_class\u001b[0m\u001b[1;33m(\u001b[0m\u001b[0mmessage\u001b[0m\u001b[1;33m,\u001b[0m \u001b[0mscreen\u001b[0m\u001b[1;33m,\u001b[0m \u001b[0mstacktrace\u001b[0m\u001b[1;33m,\u001b[0m \u001b[0malert_text\u001b[0m\u001b[1;33m)\u001b[0m  \u001b[1;31m# type: ignore[call-arg]  # mypy is not smart enough here\u001b[0m\u001b[1;33m\u001b[0m\u001b[1;33m\u001b[0m\u001b[0m\n\u001b[1;32m--> 247\u001b[1;33m         \u001b[1;32mraise\u001b[0m \u001b[0mexception_class\u001b[0m\u001b[1;33m(\u001b[0m\u001b[0mmessage\u001b[0m\u001b[1;33m,\u001b[0m \u001b[0mscreen\u001b[0m\u001b[1;33m,\u001b[0m \u001b[0mstacktrace\u001b[0m\u001b[1;33m)\u001b[0m\u001b[1;33m\u001b[0m\u001b[1;33m\u001b[0m\u001b[0m\n\u001b[0m\u001b[0;32m    248\u001b[0m \u001b[1;33m\u001b[0m\u001b[0m\n\u001b[0;32m    249\u001b[0m     \u001b[1;32mdef\u001b[0m \u001b[0m_value_or_default\u001b[0m\u001b[1;33m(\u001b[0m\u001b[0mself\u001b[0m\u001b[1;33m,\u001b[0m \u001b[0mobj\u001b[0m\u001b[1;33m:\u001b[0m \u001b[0mMapping\u001b[0m\u001b[1;33m[\u001b[0m\u001b[0m_KT\u001b[0m\u001b[1;33m,\u001b[0m \u001b[0m_VT\u001b[0m\u001b[1;33m]\u001b[0m\u001b[1;33m,\u001b[0m \u001b[0mkey\u001b[0m\u001b[1;33m:\u001b[0m \u001b[0m_KT\u001b[0m\u001b[1;33m,\u001b[0m \u001b[0mdefault\u001b[0m\u001b[1;33m:\u001b[0m \u001b[0m_VT\u001b[0m\u001b[1;33m)\u001b[0m \u001b[1;33m->\u001b[0m \u001b[0m_VT\u001b[0m\u001b[1;33m:\u001b[0m\u001b[1;33m\u001b[0m\u001b[1;33m\u001b[0m\u001b[0m\n",
      "\u001b[1;31mNoSuchWindowException\u001b[0m: Message: no such window: window was already closed\n  (Session info: MicrosoftEdge=104.0.1293.70)\nStacktrace:\nBacktrace:\n\tMicrosoft::Applications::Events::EventProperties::unpack [0x00A1DF63+58867]\n\tMicrosoft::Applications::Events::ISemanticContext::SetTicket [0x00914491+704369]\n\tMicrosoft::Applications::Events::ILogConfiguration::operator* [0x0079B1AE+3518]\n\tMicrosoft::Applications::Events::IModule::Teardown [0x00787BCB+52379]\n\tMicrosoft::Applications::Events::IModule::Teardown [0x0078A862+63794]\n\tMicrosoft::Applications::Events::IModule::Teardown [0x0078E17E+78414]\n\tMicrosoft::Applications::Events::ILogConfiguration::operator* [0x0079C330+8000]\n\tMicrosoft::Applications::Events::GUID_t::GUID_t [0x007E78B7+238663]\n\tMicrosoft::Applications::Events::GUID_t::GUID_t [0x007D9EE6+182902]\n\tMicrosoft::Applications::Events::GUID_t::GUID_t [0x007BCB96+63270]\n\tMicrosoft::Applications::Events::GUID_t::GUID_t [0x007BD926+66742]\n\tMicrosoft::Applications::Events::ILogManager::DispatchEventBroadcast [0x00C1D805+678725]\n\tMicrosoft::Applications::Events::ILogManager::DispatchEventBroadcast [0x00B8EB87+93895]\n\tMicrosoft::Applications::Events::ILogManager::DispatchEventBroadcast [0x00B8E5D7+92439]\n\tMicrosoft::Applications::Events::ILogManager::DispatchEventBroadcast [0x00B9272A+109162]\n\tMicrosoft::Applications::Events::ILogManager::DispatchEventBroadcast [0x00B8F2CA+95754]\n\tMicrosoft::Applications::Events::ISemanticContext::SetTicket [0x009265CB+778411]\n\tMicrosoft::Applications::Events::ISemanticContext::SetTicket [0x00931278+822616]\n\tMicrosoft::Applications::Events::ISemanticContext::SetTicket [0x00931402+823010]\n\tMicrosoft::Applications::Events::ISemanticContext::SetTicket [0x00944091+899953]\n\tBaseThreadInitThunk [0x76BAFA29+25]\n\tRtlGetAppContainerNamedObjectPath [0x77B17A9E+286]\n\tRtlGetAppContainerNamedObjectPath [0x77B17A6E+238]\n"
     ]
    }
   ],
   "source": [
    "see_more = browser.find_element(By.XPATH, \"//span[@class='taLnk ulBlueLinks']\")\n",
    "see_more.click()"
   ]
  },
  {
   "cell_type": "code",
   "execution_count": 5,
   "metadata": {},
   "outputs": [],
   "source": [
    "for link in location:\n",
    "    browser.get(link)\n",
    "    sleep(2)\n",
    "    while True:\n",
    "        # Get full review \n",
    "        try:\n",
    "            see_more = browser.find_element(By.XPATH, \"//span[@class='taLnk ulBlueLinks']\")\n",
    "            see_more.click()\n",
    "            sleep(0.5)\n",
    "            print(\"more\")\n",
    "        except:\n",
    "            pass\n",
    "        \n",
    "        # Get comments \n",
    "        results = []\n",
    "        reviews = browser.find_elements(By.XPATH, \"//div[@class='biGQs _P pZUbB KxBGd']//span[@class='yCeTE']\")\n",
    "        for review in reviews:\n",
    "            text = review.text\n",
    "            text = preprocess(text)\n",
    "            if len(text) < 30:\n",
    "                continue\n",
    "            results.append([text])\n",
    "\n",
    "        print(\"total crawl\", len(results))\n",
    "    \n",
    "        with open(f\"../datasets/data_crawl/data_nha_hang_tripadvisor.csv\", \"a\", encoding='utf-8', newline='') as file:\n",
    "            # Create a CSV writer\n",
    "            writer = csv.writer(file)\n",
    "            \n",
    "            # Write data to the file\n",
    "            writer.writerows(results)\n",
    "        \n",
    "        sleep(2)\n",
    "\n",
    "        # Next page\n",
    "        try:\n",
    "            more_review = browser.find_element(By.XPATH, \"//a[@aria-label='Next page']\")\n",
    "            more_review.click()\n",
    "            sleep(2)\n",
    "        except:\n",
    "            print(\"Out of page\")\n",
    "            break\n",
    "\n",
    "# Close browser\n",
    "browser.close()"
   ]
  }
 ],
 "metadata": {
  "kernelspec": {
   "display_name": "Python 3.7.13 ('vision37')",
   "language": "python",
   "name": "python3"
  },
  "language_info": {
   "codemirror_mode": {
    "name": "ipython",
    "version": 3
   },
   "file_extension": ".py",
   "mimetype": "text/x-python",
   "name": "python",
   "nbconvert_exporter": "python",
   "pygments_lexer": "ipython3",
   "version": "3.7.13"
  },
  "orig_nbformat": 4,
  "vscode": {
   "interpreter": {
    "hash": "067de83b2aeaf2db38f9fe215f65089a9ed8ef32397723d78427d931c8418804"
   }
  }
 },
 "nbformat": 4,
 "nbformat_minor": 2
}
