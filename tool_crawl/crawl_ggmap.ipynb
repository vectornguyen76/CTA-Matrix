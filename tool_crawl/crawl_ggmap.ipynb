{
 "cells": [
  {
   "cell_type": "code",
   "execution_count": 8,
   "metadata": {},
   "outputs": [],
   "source": [
    "from selenium import webdriver\n",
    "from time import sleep\n",
    "from selenium.webdriver.common.keys import Keys\n",
    "from selenium.webdriver.common.by import By\n",
    "from selenium.webdriver.common.action_chains import ActionChains\n",
    "import csv\n",
    "import re "
   ]
  },
  {
   "cell_type": "code",
   "execution_count": 9,
   "metadata": {},
   "outputs": [
    {
     "name": "stderr",
     "output_type": "stream",
     "text": [
      "c:\\Users\\DELL\\anaconda3\\envs\\vision37\\lib\\site-packages\\ipykernel_launcher.py:1: DeprecationWarning: executable_path has been deprecated, please pass in a Service object\n",
      "  \"\"\"Entry point for launching an IPython kernel.\n"
     ]
    }
   ],
   "source": [
    "browser = webdriver.Edge(executable_path='driver\\msedgedriver.exe')\n",
    "\n",
    "# Maximize window\n",
    "browser.maximize_window()\n",
    "\n",
    "# Open google map\n",
    "path_search = \"https://www.google.com/maps/@9.779349,105.6189045,11z?hl=vi-VN\"\n",
    "browser.get(path_search)\n",
    "sleep(2)"
   ]
  },
  {
   "cell_type": "code",
   "execution_count": 10,
   "metadata": {},
   "outputs": [],
   "source": [
    "# Search \n",
    "input_search = browser.find_element(By.ID,\"searchboxinput\")\n",
    "input_search.send_keys(\"taxi quy nhơn\")\n",
    "input_search.send_keys(Keys.ENTER)\n",
    "sleep(4)"
   ]
  },
  {
   "cell_type": "code",
   "execution_count": 11,
   "metadata": {},
   "outputs": [],
   "source": [
    "def preprocess(text):\n",
    "    html_pattern = re.compile('<.*?>')\n",
    "    url_pattern = re.compile(r'https?://\\S+|www\\.\\S+')\n",
    "    text = html_pattern.sub(r' ', text)\n",
    "    text = url_pattern.sub(r' ', text)\n",
    "    text = text.replace(\"\\n\", \".\")\n",
    "    text = text.replace(\";\", \"\")\n",
    "    \n",
    "    return text"
   ]
  },
  {
   "cell_type": "code",
   "execution_count": 12,
   "metadata": {},
   "outputs": [],
   "source": [
    "scroll_items = browser.find_elements(By.XPATH, \"//div[@class='m6QErb DxyBCb kA9KIf dS8AEf ecceSd']\")\n",
    "sleep(3)\n",
    "for _ in range(5):\n",
    "    sleep(2)\n",
    "    scroll_items[1].send_keys(Keys.DOWN);"
   ]
  },
  {
   "cell_type": "code",
   "execution_count": 16,
   "metadata": {},
   "outputs": [
    {
     "name": "stdout",
     "output_type": "stream",
     "text": [
      "3\n"
     ]
    }
   ],
   "source": [
    "# Get result search\n",
    "# output_searchs = browser.find_elements(By.XPATH, \"//div[@class='Nv2PK THOPZb CpccDe']\")\n",
    "output_searchs = browser.find_elements(By.XPATH, \"//div[@class='Nv2PK tH5CWc THOPZb']\")\n",
    "\n",
    "print(len(output_searchs))\n",
    "sleep(3)"
   ]
  },
  {
   "cell_type": "code",
   "execution_count": 17,
   "metadata": {},
   "outputs": [
    {
     "name": "stdout",
     "output_type": "stream",
     "text": [
      "Item:  0\n",
      "scroll 79\n",
      "total reviews 20\n",
      "total results 2\n",
      "Item:  1\n",
      "scroll 75\n",
      "total reviews 20\n",
      "total results 13\n",
      "Item:  2\n",
      "scroll 11\n",
      "total reviews 10\n",
      "total results 10\n"
     ]
    }
   ],
   "source": [
    "for output_search in output_searchs:\n",
    "    results = []\n",
    "    \n",
    "    try:\n",
    "        sleep(1)\n",
    "        scroll_items[1].send_keys(Keys.DOWN)\n",
    "        \n",
    "        index = output_searchs.index(output_search)\n",
    "        print(\"Item: \", index)\n",
    "        \n",
    "        # Choose each output\n",
    "        output_search.click()\n",
    "        sleep(3)\n",
    "\n",
    "        # Get label review and click\n",
    "        label_review = browser.find_element(By.XPATH, \"//button[@class='DkEaL']\")\n",
    "        numbers_review = label_review.text.replace(\".\", \"\")\n",
    "        numbers_review = int(re.findall(r'\\d+', numbers_review)[0])\n",
    "        print(\"scroll\", numbers_review)\n",
    "        \n",
    "        label_review.click()\n",
    "        sleep(3)\n",
    "    except:\n",
    "        print(\"Error\")\n",
    "        continue\n",
    "    \n",
    "    # Scroll to get more result\n",
    "    scroll = browser.find_element(By.XPATH, \"//div[@class='m6QErb DxyBCb kA9KIf dS8AEf']\")\n",
    "    for _ in range(numbers_review):\n",
    "        # Click \"Xem thêm\" to get full review\n",
    "        try:\n",
    "            see_more = browser.find_element(By.XPATH, \"//button[@aria-label='Xem thêm']\")\n",
    "            see_more.click()\n",
    "        except:\n",
    "            pass\n",
    "            \n",
    "        # Scroll \n",
    "        sleep(0.5)\n",
    "        scroll.send_keys(Keys.DOWN);\n",
    "    \n",
    "    # Get reviews\n",
    "    reviews = browser.find_elements(By.XPATH, \"//span[@class='wiI7pd']\")\n",
    "    print(\"total reviews\", len(reviews))\n",
    "    \n",
    "    # Preproces review\n",
    "    for review in reviews:\n",
    "        text = review.text\n",
    "        text = preprocess(text)\n",
    "        if len(text) < 40:\n",
    "            continue\n",
    "        results.append([text])\n",
    "    \n",
    "    print(\"total results\", len(results))\n",
    "    \n",
    "    # Write data to file csv\n",
    "    with open(f\"../datasets/data_crawl/data_taxi_ggmap.csv\", \"a\", encoding='utf-8', newline='') as file:\n",
    "        # Create a CSV writer\n",
    "        writer = csv.writer(file)\n",
    "        \n",
    "        # Write data\n",
    "        writer.writerows(results)\n",
    "    \n",
    "    sleep(3)\n",
    "# Đóng trình duyệt\n",
    "browser.close()"
   ]
  },
  {
   "cell_type": "code",
   "execution_count": null,
   "metadata": {},
   "outputs": [],
   "source": []
  }
 ],
 "metadata": {
  "kernelspec": {
   "display_name": "Python 3.7.13 ('vision37')",
   "language": "python",
   "name": "python3"
  },
  "language_info": {
   "codemirror_mode": {
    "name": "ipython",
    "version": 3
   },
   "file_extension": ".py",
   "mimetype": "text/x-python",
   "name": "python",
   "nbconvert_exporter": "python",
   "pygments_lexer": "ipython3",
   "version": "3.7.13"
  },
  "orig_nbformat": 4,
  "vscode": {
   "interpreter": {
    "hash": "067de83b2aeaf2db38f9fe215f65089a9ed8ef32397723d78427d931c8418804"
   }
  }
 },
 "nbformat": 4,
 "nbformat_minor": 2
}
