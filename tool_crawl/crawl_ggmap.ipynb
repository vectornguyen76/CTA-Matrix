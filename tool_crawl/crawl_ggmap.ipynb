{
 "cells": [
  {
   "cell_type": "code",
   "execution_count": 1,
   "metadata": {},
   "outputs": [],
   "source": [
    "from selenium import webdriver\n",
    "from time import sleep\n",
    "from selenium.webdriver.common.keys import Keys\n",
    "from selenium.webdriver.common.by import By\n",
    "from selenium.webdriver.common.action_chains import ActionChains\n",
    "import csv\n",
    "import re "
   ]
  },
  {
   "cell_type": "code",
   "execution_count": 2,
   "metadata": {},
   "outputs": [
    {
     "name": "stderr",
     "output_type": "stream",
     "text": [
      "c:\\Users\\DELL\\anaconda3\\envs\\vision37\\lib\\site-packages\\ipykernel_launcher.py:1: DeprecationWarning: executable_path has been deprecated, please pass in a Service object\n",
      "  \"\"\"Entry point for launching an IPython kernel.\n"
     ]
    }
   ],
   "source": [
    "browser = webdriver.Edge(executable_path='driver\\msedgedriver.exe')\n",
    "\n",
    "# Maximize window\n",
    "browser.maximize_window()\n",
    "\n",
    "# Open google map\n",
    "path_search = \"https://www.google.com/maps/@9.779349,105.6189045,11z?hl=vi-VN\"\n",
    "browser.get(path_search)\n",
    "sleep(2)"
   ]
  },
  {
   "cell_type": "code",
   "execution_count": 3,
   "metadata": {},
   "outputs": [],
   "source": [
    "# Search \n",
    "input_search = browser.find_element(By.ID,\"searchboxinput\")\n",
    "input_search.send_keys(\"nhà hàng vũng tàu\")\n",
    "input_search.send_keys(Keys.ENTER)\n",
    "sleep(4)"
   ]
  },
  {
   "cell_type": "code",
   "execution_count": 4,
   "metadata": {},
   "outputs": [],
   "source": [
    "def preprocess(text):\n",
    "    html_pattern = re.compile('<.*?>')\n",
    "    url_pattern = re.compile(r'https?://\\S+|www\\.\\S+')\n",
    "    text = html_pattern.sub(r' ', text)\n",
    "    text = url_pattern.sub(r' ', text)\n",
    "    text = text.replace(\"\\n\", \".\")\n",
    "    text = text.replace(\";\", \"\")\n",
    "    \n",
    "    return text"
   ]
  },
  {
   "cell_type": "code",
   "execution_count": 5,
   "metadata": {},
   "outputs": [],
   "source": [
    "scroll_items = browser.find_elements(By.XPATH, \"//div[@class='m6QErb DxyBCb kA9KIf dS8AEf ecceSd']\")\n",
    "sleep(3)\n",
    "# for _ in range(50):\n",
    "#     sleep(2)\n",
    "#     scroll_items[1].send_keys(Keys.DOWN);"
   ]
  },
  {
   "cell_type": "code",
   "execution_count": 6,
   "metadata": {},
   "outputs": [
    {
     "name": "stdout",
     "output_type": "stream",
     "text": [
      "5\n"
     ]
    }
   ],
   "source": [
    "# Get result search\n",
    "# output_searchs = browser.find_elements(By.XPATH, \"//div[@class='Nv2PK THOPZb CpccDe']\")\n",
    "output_searchs = browser.find_elements(By.XPATH, \"//div[@class='Nv2PK THOPZb CpccDe']\")\n",
    "\n",
    "print(len(output_searchs))\n",
    "sleep(3)"
   ]
  },
  {
   "cell_type": "code",
   "execution_count": 7,
   "metadata": {},
   "outputs": [
    {
     "name": "stdout",
     "output_type": "stream",
     "text": [
      "Item:  0\n",
      "scroll 6362\n"
     ]
    },
    {
     "ename": "ElementNotInteractableException",
     "evalue": "Message: element not interactable\n  (Session info: MicrosoftEdge=104.0.1293.70)\nStacktrace:\nBacktrace:\n\tMicrosoft::Applications::Events::EventProperties::unpack [0x0098DF63+58867]\n\tMicrosoft::Applications::Events::ISemanticContext::SetTicket [0x00884491+704369]\n\tMicrosoft::Applications::Events::ILogConfiguration::operator* [0x0070B07A+3210]\n\tMicrosoft::Applications::Events::GUID_t::GUID_t [0x00731A79+83465]\n\tMicrosoft::Applications::Events::GUID_t::GUID_t [0x0073148E+81950]\n\tMicrosoft::Applications::Events::GUID_t::GUID_t [0x0074A16C+183548]\n\tMicrosoft::Applications::Events::GUID_t::GUID_t [0x0072DE01+67985]\n\tMicrosoft::Applications::Events::GUID_t::GUID_t [0x0074A494+184356]\n\tMicrosoft::Applications::Events::GUID_t::GUID_t [0x00757E28+240056]\n\tMicrosoft::Applications::Events::GUID_t::GUID_t [0x00749EE6+182902]\n\tMicrosoft::Applications::Events::GUID_t::GUID_t [0x0072CB96+63270]\n\tMicrosoft::Applications::Events::GUID_t::GUID_t [0x0072D926+66742]\n\tMicrosoft::Applications::Events::ILogManager::DispatchEventBroadcast [0x00B8D805+678725]\n\tMicrosoft::Applications::Events::ILogManager::DispatchEventBroadcast [0x00AFEB87+93895]\n\tMicrosoft::Applications::Events::ILogManager::DispatchEventBroadcast [0x00AFE5D7+92439]\n\tMicrosoft::Applications::Events::ILogManager::DispatchEventBroadcast [0x00B0272A+109162]\n\tMicrosoft::Applications::Events::ILogManager::DispatchEventBroadcast [0x00AFF2CA+95754]\n\tMicrosoft::Applications::Events::ISemanticContext::SetTicket [0x008965CB+778411]\n\tMicrosoft::Applications::Events::ISemanticContext::SetTicket [0x008A1278+822616]\n\tMicrosoft::Applications::Events::ISemanticContext::SetTicket [0x008A1402+823010]\n\tMicrosoft::Applications::Events::ISemanticContext::SetTicket [0x008B4091+899953]\n\tBaseThreadInitThunk [0x75C5FA29+25]\n\tRtlGetAppContainerNamedObjectPath [0x77147A9E+286]\n\tRtlGetAppContainerNamedObjectPath [0x77147A6E+238]\n",
     "output_type": "error",
     "traceback": [
      "\u001b[1;31m---------------------------------------------------------------------------\u001b[0m",
      "\u001b[1;31mElementNotInteractableException\u001b[0m           Traceback (most recent call last)",
      "\u001b[1;32m~\\AppData\\Local\\Temp\\ipykernel_17724\\963265669.py\u001b[0m in \u001b[0;36m<module>\u001b[1;34m\u001b[0m\n\u001b[0;32m     39\u001b[0m         \u001b[1;31m# Scroll\u001b[0m\u001b[1;33m\u001b[0m\u001b[1;33m\u001b[0m\u001b[1;33m\u001b[0m\u001b[0m\n\u001b[0;32m     40\u001b[0m         \u001b[0msleep\u001b[0m\u001b[1;33m(\u001b[0m\u001b[1;36m0.5\u001b[0m\u001b[1;33m)\u001b[0m\u001b[1;33m\u001b[0m\u001b[1;33m\u001b[0m\u001b[0m\n\u001b[1;32m---> 41\u001b[1;33m         \u001b[0mscroll\u001b[0m\u001b[1;33m.\u001b[0m\u001b[0msend_keys\u001b[0m\u001b[1;33m(\u001b[0m\u001b[0mKeys\u001b[0m\u001b[1;33m.\u001b[0m\u001b[0mDOWN\u001b[0m\u001b[1;33m)\u001b[0m\u001b[1;33m;\u001b[0m\u001b[1;33m\u001b[0m\u001b[1;33m\u001b[0m\u001b[0m\n\u001b[0m\u001b[0;32m     42\u001b[0m \u001b[1;33m\u001b[0m\u001b[0m\n\u001b[0;32m     43\u001b[0m     \u001b[1;31m# Get reviews\u001b[0m\u001b[1;33m\u001b[0m\u001b[1;33m\u001b[0m\u001b[1;33m\u001b[0m\u001b[0m\n",
      "\u001b[1;32mc:\\Users\\DELL\\anaconda3\\envs\\vision37\\lib\\site-packages\\selenium\\webdriver\\remote\\webelement.py\u001b[0m in \u001b[0;36msend_keys\u001b[1;34m(self, *value)\u001b[0m\n\u001b[0;32m    223\u001b[0m         self._execute(Command.SEND_KEYS_TO_ELEMENT,\n\u001b[0;32m    224\u001b[0m                       {'text': \"\".join(keys_to_typing(value)),\n\u001b[1;32m--> 225\u001b[1;33m                        'value': keys_to_typing(value)})\n\u001b[0m\u001b[0;32m    226\u001b[0m \u001b[1;33m\u001b[0m\u001b[0m\n\u001b[0;32m    227\u001b[0m     \u001b[1;33m@\u001b[0m\u001b[0mproperty\u001b[0m\u001b[1;33m\u001b[0m\u001b[1;33m\u001b[0m\u001b[0m\n",
      "\u001b[1;32mc:\\Users\\DELL\\anaconda3\\envs\\vision37\\lib\\site-packages\\selenium\\webdriver\\remote\\webelement.py\u001b[0m in \u001b[0;36m_execute\u001b[1;34m(self, command, params)\u001b[0m\n\u001b[0;32m    394\u001b[0m             \u001b[0mparams\u001b[0m \u001b[1;33m=\u001b[0m \u001b[1;33m{\u001b[0m\u001b[1;33m}\u001b[0m\u001b[1;33m\u001b[0m\u001b[1;33m\u001b[0m\u001b[0m\n\u001b[0;32m    395\u001b[0m         \u001b[0mparams\u001b[0m\u001b[1;33m[\u001b[0m\u001b[1;34m'id'\u001b[0m\u001b[1;33m]\u001b[0m \u001b[1;33m=\u001b[0m \u001b[0mself\u001b[0m\u001b[1;33m.\u001b[0m\u001b[0m_id\u001b[0m\u001b[1;33m\u001b[0m\u001b[1;33m\u001b[0m\u001b[0m\n\u001b[1;32m--> 396\u001b[1;33m         \u001b[1;32mreturn\u001b[0m \u001b[0mself\u001b[0m\u001b[1;33m.\u001b[0m\u001b[0m_parent\u001b[0m\u001b[1;33m.\u001b[0m\u001b[0mexecute\u001b[0m\u001b[1;33m(\u001b[0m\u001b[0mcommand\u001b[0m\u001b[1;33m,\u001b[0m \u001b[0mparams\u001b[0m\u001b[1;33m)\u001b[0m\u001b[1;33m\u001b[0m\u001b[1;33m\u001b[0m\u001b[0m\n\u001b[0m\u001b[0;32m    397\u001b[0m \u001b[1;33m\u001b[0m\u001b[0m\n\u001b[0;32m    398\u001b[0m     \u001b[1;32mdef\u001b[0m \u001b[0mfind_element\u001b[0m\u001b[1;33m(\u001b[0m\u001b[0mself\u001b[0m\u001b[1;33m,\u001b[0m \u001b[0mby\u001b[0m\u001b[1;33m=\u001b[0m\u001b[0mBy\u001b[0m\u001b[1;33m.\u001b[0m\u001b[0mID\u001b[0m\u001b[1;33m,\u001b[0m \u001b[0mvalue\u001b[0m\u001b[1;33m=\u001b[0m\u001b[1;32mNone\u001b[0m\u001b[1;33m)\u001b[0m \u001b[1;33m->\u001b[0m \u001b[0mWebElement\u001b[0m\u001b[1;33m:\u001b[0m\u001b[1;33m\u001b[0m\u001b[1;33m\u001b[0m\u001b[0m\n",
      "\u001b[1;32mc:\\Users\\DELL\\anaconda3\\envs\\vision37\\lib\\site-packages\\selenium\\webdriver\\remote\\webdriver.py\u001b[0m in \u001b[0;36mexecute\u001b[1;34m(self, driver_command, params)\u001b[0m\n\u001b[0;32m    433\u001b[0m         \u001b[0mresponse\u001b[0m \u001b[1;33m=\u001b[0m \u001b[0mself\u001b[0m\u001b[1;33m.\u001b[0m\u001b[0mcommand_executor\u001b[0m\u001b[1;33m.\u001b[0m\u001b[0mexecute\u001b[0m\u001b[1;33m(\u001b[0m\u001b[0mdriver_command\u001b[0m\u001b[1;33m,\u001b[0m \u001b[0mparams\u001b[0m\u001b[1;33m)\u001b[0m\u001b[1;33m\u001b[0m\u001b[1;33m\u001b[0m\u001b[0m\n\u001b[0;32m    434\u001b[0m         \u001b[1;32mif\u001b[0m \u001b[0mresponse\u001b[0m\u001b[1;33m:\u001b[0m\u001b[1;33m\u001b[0m\u001b[1;33m\u001b[0m\u001b[0m\n\u001b[1;32m--> 435\u001b[1;33m             \u001b[0mself\u001b[0m\u001b[1;33m.\u001b[0m\u001b[0merror_handler\u001b[0m\u001b[1;33m.\u001b[0m\u001b[0mcheck_response\u001b[0m\u001b[1;33m(\u001b[0m\u001b[0mresponse\u001b[0m\u001b[1;33m)\u001b[0m\u001b[1;33m\u001b[0m\u001b[1;33m\u001b[0m\u001b[0m\n\u001b[0m\u001b[0;32m    436\u001b[0m             response['value'] = self._unwrap_value(\n\u001b[0;32m    437\u001b[0m                 response.get('value', None))\n",
      "\u001b[1;32mc:\\Users\\DELL\\anaconda3\\envs\\vision37\\lib\\site-packages\\selenium\\webdriver\\remote\\errorhandler.py\u001b[0m in \u001b[0;36mcheck_response\u001b[1;34m(self, response)\u001b[0m\n\u001b[0;32m    245\u001b[0m                 \u001b[0malert_text\u001b[0m \u001b[1;33m=\u001b[0m \u001b[0mvalue\u001b[0m\u001b[1;33m[\u001b[0m\u001b[1;34m'alert'\u001b[0m\u001b[1;33m]\u001b[0m\u001b[1;33m.\u001b[0m\u001b[0mget\u001b[0m\u001b[1;33m(\u001b[0m\u001b[1;34m'text'\u001b[0m\u001b[1;33m)\u001b[0m\u001b[1;33m\u001b[0m\u001b[1;33m\u001b[0m\u001b[0m\n\u001b[0;32m    246\u001b[0m             \u001b[1;32mraise\u001b[0m \u001b[0mexception_class\u001b[0m\u001b[1;33m(\u001b[0m\u001b[0mmessage\u001b[0m\u001b[1;33m,\u001b[0m \u001b[0mscreen\u001b[0m\u001b[1;33m,\u001b[0m \u001b[0mstacktrace\u001b[0m\u001b[1;33m,\u001b[0m \u001b[0malert_text\u001b[0m\u001b[1;33m)\u001b[0m  \u001b[1;31m# type: ignore[call-arg]  # mypy is not smart enough here\u001b[0m\u001b[1;33m\u001b[0m\u001b[1;33m\u001b[0m\u001b[0m\n\u001b[1;32m--> 247\u001b[1;33m         \u001b[1;32mraise\u001b[0m \u001b[0mexception_class\u001b[0m\u001b[1;33m(\u001b[0m\u001b[0mmessage\u001b[0m\u001b[1;33m,\u001b[0m \u001b[0mscreen\u001b[0m\u001b[1;33m,\u001b[0m \u001b[0mstacktrace\u001b[0m\u001b[1;33m)\u001b[0m\u001b[1;33m\u001b[0m\u001b[1;33m\u001b[0m\u001b[0m\n\u001b[0m\u001b[0;32m    248\u001b[0m \u001b[1;33m\u001b[0m\u001b[0m\n\u001b[0;32m    249\u001b[0m     \u001b[1;32mdef\u001b[0m \u001b[0m_value_or_default\u001b[0m\u001b[1;33m(\u001b[0m\u001b[0mself\u001b[0m\u001b[1;33m,\u001b[0m \u001b[0mobj\u001b[0m\u001b[1;33m:\u001b[0m \u001b[0mMapping\u001b[0m\u001b[1;33m[\u001b[0m\u001b[0m_KT\u001b[0m\u001b[1;33m,\u001b[0m \u001b[0m_VT\u001b[0m\u001b[1;33m]\u001b[0m\u001b[1;33m,\u001b[0m \u001b[0mkey\u001b[0m\u001b[1;33m:\u001b[0m \u001b[0m_KT\u001b[0m\u001b[1;33m,\u001b[0m \u001b[0mdefault\u001b[0m\u001b[1;33m:\u001b[0m \u001b[0m_VT\u001b[0m\u001b[1;33m)\u001b[0m \u001b[1;33m->\u001b[0m \u001b[0m_VT\u001b[0m\u001b[1;33m:\u001b[0m\u001b[1;33m\u001b[0m\u001b[1;33m\u001b[0m\u001b[0m\n",
      "\u001b[1;31mElementNotInteractableException\u001b[0m: Message: element not interactable\n  (Session info: MicrosoftEdge=104.0.1293.70)\nStacktrace:\nBacktrace:\n\tMicrosoft::Applications::Events::EventProperties::unpack [0x0098DF63+58867]\n\tMicrosoft::Applications::Events::ISemanticContext::SetTicket [0x00884491+704369]\n\tMicrosoft::Applications::Events::ILogConfiguration::operator* [0x0070B07A+3210]\n\tMicrosoft::Applications::Events::GUID_t::GUID_t [0x00731A79+83465]\n\tMicrosoft::Applications::Events::GUID_t::GUID_t [0x0073148E+81950]\n\tMicrosoft::Applications::Events::GUID_t::GUID_t [0x0074A16C+183548]\n\tMicrosoft::Applications::Events::GUID_t::GUID_t [0x0072DE01+67985]\n\tMicrosoft::Applications::Events::GUID_t::GUID_t [0x0074A494+184356]\n\tMicrosoft::Applications::Events::GUID_t::GUID_t [0x00757E28+240056]\n\tMicrosoft::Applications::Events::GUID_t::GUID_t [0x00749EE6+182902]\n\tMicrosoft::Applications::Events::GUID_t::GUID_t [0x0072CB96+63270]\n\tMicrosoft::Applications::Events::GUID_t::GUID_t [0x0072D926+66742]\n\tMicrosoft::Applications::Events::ILogManager::DispatchEventBroadcast [0x00B8D805+678725]\n\tMicrosoft::Applications::Events::ILogManager::DispatchEventBroadcast [0x00AFEB87+93895]\n\tMicrosoft::Applications::Events::ILogManager::DispatchEventBroadcast [0x00AFE5D7+92439]\n\tMicrosoft::Applications::Events::ILogManager::DispatchEventBroadcast [0x00B0272A+109162]\n\tMicrosoft::Applications::Events::ILogManager::DispatchEventBroadcast [0x00AFF2CA+95754]\n\tMicrosoft::Applications::Events::ISemanticContext::SetTicket [0x008965CB+778411]\n\tMicrosoft::Applications::Events::ISemanticContext::SetTicket [0x008A1278+822616]\n\tMicrosoft::Applications::Events::ISemanticContext::SetTicket [0x008A1402+823010]\n\tMicrosoft::Applications::Events::ISemanticContext::SetTicket [0x008B4091+899953]\n\tBaseThreadInitThunk [0x75C5FA29+25]\n\tRtlGetAppContainerNamedObjectPath [0x77147A9E+286]\n\tRtlGetAppContainerNamedObjectPath [0x77147A6E+238]\n"
     ]
    }
   ],
   "source": [
    "for output_search in output_searchs:\n",
    "    results = []\n",
    "    \n",
    "    try:\n",
    "        sleep(1)\n",
    "        scroll_items[1].send_keys(Keys.DOWN)\n",
    "        \n",
    "        index = output_searchs.index(output_search)\n",
    "        print(\"Item: \", index)\n",
    "        \n",
    "        # Choose each output\n",
    "        output_search.click()\n",
    "        sleep(3)\n",
    "\n",
    "        # Get label review and click\n",
    "        label_review = browser.find_element(By.XPATH, \"//button[@class='DkEaL']\")\n",
    "        numbers_review = label_review.text.replace(\".\", \"\")\n",
    "        numbers_review = int(re.findall(r'\\d+', numbers_review)[0])\n",
    "        print(\"scroll\", numbers_review)\n",
    "        if numbers_review > 1000:\n",
    "            numbers_review = 1000\n",
    "        \n",
    "        label_review.click()\n",
    "        sleep(3)\n",
    "    except:\n",
    "        print(\"Error\")\n",
    "        continue\n",
    "    \n",
    "    # Scroll to get more result\n",
    "    scroll = browser.find_element(By.XPATH, \"//div[@class='m6QErb DxyBCb kA9KIf dS8AEf']\")\n",
    "    for _ in range(numbers_review):\n",
    "        # Click \"Xem thêm\" to get full review\n",
    "        try:\n",
    "            see_more = browser.find_element(By.XPATH, \"//button[@aria-label='Xem thêm']\")\n",
    "            see_more.click()\n",
    "        except:\n",
    "            pass\n",
    "            \n",
    "        # Scroll \n",
    "        sleep(0.5)\n",
    "        scroll.send_keys(Keys.DOWN);\n",
    "    \n",
    "    # Get reviews\n",
    "    reviews = browser.find_elements(By.XPATH, \"//span[@class='wiI7pd']\")\n",
    "    print(\"total reviews\", len(reviews))\n",
    "    \n",
    "    # Preproces review\n",
    "    for review in reviews:\n",
    "        text = review.text\n",
    "        text = preprocess(text)\n",
    "        if len(text) < 40:\n",
    "            continue\n",
    "        results.append([text])\n",
    "    \n",
    "    print(\"total results\", len(results))\n",
    "    \n",
    "    # Write data to file csv\n",
    "    with open(f\"../datasets/data_crawl/data_vungtau_ggmap.csv\", \"a\", encoding='utf-8', newline='') as file:\n",
    "        # Create a CSV writer\n",
    "        writer = csv.writer(file)\n",
    "        \n",
    "        # Write data\n",
    "        writer.writerows(results)\n",
    "    \n",
    "    sleep(3)\n",
    "# Đóng trình duyệt\n",
    "browser.close()"
   ]
  },
  {
   "cell_type": "code",
   "execution_count": null,
   "metadata": {},
   "outputs": [],
   "source": []
  }
 ],
 "metadata": {
  "kernelspec": {
   "display_name": "Python 3.7.13 ('vision37')",
   "language": "python",
   "name": "python3"
  },
  "language_info": {
   "codemirror_mode": {
    "name": "ipython",
    "version": 3
   },
   "file_extension": ".py",
   "mimetype": "text/x-python",
   "name": "python",
   "nbconvert_exporter": "python",
   "pygments_lexer": "ipython3",
   "version": "3.7.13"
  },
  "orig_nbformat": 4,
  "vscode": {
   "interpreter": {
    "hash": "067de83b2aeaf2db38f9fe215f65089a9ed8ef32397723d78427d931c8418804"
   }
  }
 },
 "nbformat": 4,
 "nbformat_minor": 2
}
